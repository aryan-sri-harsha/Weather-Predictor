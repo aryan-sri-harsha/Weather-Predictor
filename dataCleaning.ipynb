{
 "cells": [
  {
   "cell_type": "code",
   "execution_count": 2,
   "metadata": {},
   "outputs": [
    {
     "name": "stderr",
     "output_type": "stream",
     "text": [
      "C:\\Users\\harsh\\AppData\\Local\\Temp\\ipykernel_16832\\3054302575.py:13: SettingWithCopyWarning: \n",
      "A value is trying to be set on a copy of a slice from a DataFrame\n",
      "\n",
      "See the caveats in the documentation: https://pandas.pydata.org/pandas-docs/stable/user_guide/indexing.html#returning-a-view-versus-a-copy\n",
      "  df[\"year\"][i] = df[\"date_time\"][i][0:4]\n",
      "C:\\Users\\harsh\\AppData\\Local\\Temp\\ipykernel_16832\\3054302575.py:14: SettingWithCopyWarning: \n",
      "A value is trying to be set on a copy of a slice from a DataFrame\n",
      "\n",
      "See the caveats in the documentation: https://pandas.pydata.org/pandas-docs/stable/user_guide/indexing.html#returning-a-view-versus-a-copy\n",
      "  df[\"month\"][i] = df[\"date_time\"][i][5:7]\n",
      "C:\\Users\\harsh\\AppData\\Local\\Temp\\ipykernel_16832\\3054302575.py:15: SettingWithCopyWarning: \n",
      "A value is trying to be set on a copy of a slice from a DataFrame\n",
      "\n",
      "See the caveats in the documentation: https://pandas.pydata.org/pandas-docs/stable/user_guide/indexing.html#returning-a-view-versus-a-copy\n",
      "  df[\"day\"][i] = df[\"date_time\"][i][8:10]\n"
     ]
    },
    {
     "name": "stdout",
     "output_type": "stream",
     "text": [
      "0       2019\n",
      "1       2019\n",
      "2       2019\n",
      "3       2019\n",
      "4       2019\n",
      "        ... \n",
      "8777    2020\n",
      "8778    2020\n",
      "8779    2020\n",
      "8780    2020\n",
      "8781    2020\n",
      "Name: year, Length: 8782, dtype: object\n"
     ]
    },
    {
     "name": "stderr",
     "output_type": "stream",
     "text": [
      "C:\\Users\\harsh\\AppData\\Local\\Temp\\ipykernel_16832\\3054302575.py:13: SettingWithCopyWarning: \n",
      "A value is trying to be set on a copy of a slice from a DataFrame\n",
      "\n",
      "See the caveats in the documentation: https://pandas.pydata.org/pandas-docs/stable/user_guide/indexing.html#returning-a-view-versus-a-copy\n",
      "  df[\"year\"][i] = df[\"date_time\"][i][0:4]\n",
      "C:\\Users\\harsh\\AppData\\Local\\Temp\\ipykernel_16832\\3054302575.py:14: SettingWithCopyWarning: \n",
      "A value is trying to be set on a copy of a slice from a DataFrame\n",
      "\n",
      "See the caveats in the documentation: https://pandas.pydata.org/pandas-docs/stable/user_guide/indexing.html#returning-a-view-versus-a-copy\n",
      "  df[\"month\"][i] = df[\"date_time\"][i][5:7]\n",
      "C:\\Users\\harsh\\AppData\\Local\\Temp\\ipykernel_16832\\3054302575.py:15: SettingWithCopyWarning: \n",
      "A value is trying to be set on a copy of a slice from a DataFrame\n",
      "\n",
      "See the caveats in the documentation: https://pandas.pydata.org/pandas-docs/stable/user_guide/indexing.html#returning-a-view-versus-a-copy\n",
      "  df[\"day\"][i] = df[\"date_time\"][i][8:10]\n"
     ]
    },
    {
     "name": "stdout",
     "output_type": "stream",
     "text": [
      "0       2019\n",
      "1       2019\n",
      "2       2019\n",
      "3       2019\n",
      "4       2019\n",
      "        ... \n",
      "8777    2020\n",
      "8778    2020\n",
      "8779    2020\n",
      "8780    2020\n",
      "8781    2020\n",
      "Name: year, Length: 8782, dtype: object\n"
     ]
    },
    {
     "name": "stderr",
     "output_type": "stream",
     "text": [
      "C:\\Users\\harsh\\AppData\\Local\\Temp\\ipykernel_16832\\3054302575.py:13: SettingWithCopyWarning: \n",
      "A value is trying to be set on a copy of a slice from a DataFrame\n",
      "\n",
      "See the caveats in the documentation: https://pandas.pydata.org/pandas-docs/stable/user_guide/indexing.html#returning-a-view-versus-a-copy\n",
      "  df[\"year\"][i] = df[\"date_time\"][i][0:4]\n",
      "C:\\Users\\harsh\\AppData\\Local\\Temp\\ipykernel_16832\\3054302575.py:14: SettingWithCopyWarning: \n",
      "A value is trying to be set on a copy of a slice from a DataFrame\n",
      "\n",
      "See the caveats in the documentation: https://pandas.pydata.org/pandas-docs/stable/user_guide/indexing.html#returning-a-view-versus-a-copy\n",
      "  df[\"month\"][i] = df[\"date_time\"][i][5:7]\n",
      "C:\\Users\\harsh\\AppData\\Local\\Temp\\ipykernel_16832\\3054302575.py:15: SettingWithCopyWarning: \n",
      "A value is trying to be set on a copy of a slice from a DataFrame\n",
      "\n",
      "See the caveats in the documentation: https://pandas.pydata.org/pandas-docs/stable/user_guide/indexing.html#returning-a-view-versus-a-copy\n",
      "  df[\"day\"][i] = df[\"date_time\"][i][8:10]\n"
     ]
    },
    {
     "name": "stdout",
     "output_type": "stream",
     "text": [
      "0       2019\n",
      "1       2019\n",
      "2       2019\n",
      "3       2019\n",
      "4       2019\n",
      "        ... \n",
      "8777    2020\n",
      "8778    2020\n",
      "8779    2020\n",
      "8780    2020\n",
      "8781    2020\n",
      "Name: year, Length: 8782, dtype: object\n"
     ]
    },
    {
     "name": "stderr",
     "output_type": "stream",
     "text": [
      "C:\\Users\\harsh\\AppData\\Local\\Temp\\ipykernel_16832\\3054302575.py:13: SettingWithCopyWarning: \n",
      "A value is trying to be set on a copy of a slice from a DataFrame\n",
      "\n",
      "See the caveats in the documentation: https://pandas.pydata.org/pandas-docs/stable/user_guide/indexing.html#returning-a-view-versus-a-copy\n",
      "  df[\"year\"][i] = df[\"date_time\"][i][0:4]\n",
      "C:\\Users\\harsh\\AppData\\Local\\Temp\\ipykernel_16832\\3054302575.py:14: SettingWithCopyWarning: \n",
      "A value is trying to be set on a copy of a slice from a DataFrame\n",
      "\n",
      "See the caveats in the documentation: https://pandas.pydata.org/pandas-docs/stable/user_guide/indexing.html#returning-a-view-versus-a-copy\n",
      "  df[\"month\"][i] = df[\"date_time\"][i][5:7]\n",
      "C:\\Users\\harsh\\AppData\\Local\\Temp\\ipykernel_16832\\3054302575.py:15: SettingWithCopyWarning: \n",
      "A value is trying to be set on a copy of a slice from a DataFrame\n",
      "\n",
      "See the caveats in the documentation: https://pandas.pydata.org/pandas-docs/stable/user_guide/indexing.html#returning-a-view-versus-a-copy\n",
      "  df[\"day\"][i] = df[\"date_time\"][i][8:10]\n"
     ]
    },
    {
     "name": "stdout",
     "output_type": "stream",
     "text": [
      "0       2019\n",
      "1       2019\n",
      "2       2019\n",
      "3       2019\n",
      "4       2019\n",
      "        ... \n",
      "8777    2020\n",
      "8778    2020\n",
      "8779    2020\n",
      "8780    2020\n",
      "8781    2020\n",
      "Name: year, Length: 8782, dtype: object\n"
     ]
    },
    {
     "name": "stderr",
     "output_type": "stream",
     "text": [
      "C:\\Users\\harsh\\AppData\\Local\\Temp\\ipykernel_16832\\3054302575.py:13: SettingWithCopyWarning: \n",
      "A value is trying to be set on a copy of a slice from a DataFrame\n",
      "\n",
      "See the caveats in the documentation: https://pandas.pydata.org/pandas-docs/stable/user_guide/indexing.html#returning-a-view-versus-a-copy\n",
      "  df[\"year\"][i] = df[\"date_time\"][i][0:4]\n",
      "C:\\Users\\harsh\\AppData\\Local\\Temp\\ipykernel_16832\\3054302575.py:14: SettingWithCopyWarning: \n",
      "A value is trying to be set on a copy of a slice from a DataFrame\n",
      "\n",
      "See the caveats in the documentation: https://pandas.pydata.org/pandas-docs/stable/user_guide/indexing.html#returning-a-view-versus-a-copy\n",
      "  df[\"month\"][i] = df[\"date_time\"][i][5:7]\n",
      "C:\\Users\\harsh\\AppData\\Local\\Temp\\ipykernel_16832\\3054302575.py:15: SettingWithCopyWarning: \n",
      "A value is trying to be set on a copy of a slice from a DataFrame\n",
      "\n",
      "See the caveats in the documentation: https://pandas.pydata.org/pandas-docs/stable/user_guide/indexing.html#returning-a-view-versus-a-copy\n",
      "  df[\"day\"][i] = df[\"date_time\"][i][8:10]\n"
     ]
    },
    {
     "name": "stdout",
     "output_type": "stream",
     "text": [
      "0       2019\n",
      "1       2019\n",
      "2       2019\n",
      "3       2019\n",
      "4       2019\n",
      "        ... \n",
      "8777    2020\n",
      "8778    2020\n",
      "8779    2020\n",
      "8780    2020\n",
      "8781    2020\n",
      "Name: year, Length: 8782, dtype: object\n"
     ]
    },
    {
     "name": "stderr",
     "output_type": "stream",
     "text": [
      "C:\\Users\\harsh\\AppData\\Local\\Temp\\ipykernel_16832\\3054302575.py:13: SettingWithCopyWarning: \n",
      "A value is trying to be set on a copy of a slice from a DataFrame\n",
      "\n",
      "See the caveats in the documentation: https://pandas.pydata.org/pandas-docs/stable/user_guide/indexing.html#returning-a-view-versus-a-copy\n",
      "  df[\"year\"][i] = df[\"date_time\"][i][0:4]\n",
      "C:\\Users\\harsh\\AppData\\Local\\Temp\\ipykernel_16832\\3054302575.py:14: SettingWithCopyWarning: \n",
      "A value is trying to be set on a copy of a slice from a DataFrame\n",
      "\n",
      "See the caveats in the documentation: https://pandas.pydata.org/pandas-docs/stable/user_guide/indexing.html#returning-a-view-versus-a-copy\n",
      "  df[\"month\"][i] = df[\"date_time\"][i][5:7]\n",
      "C:\\Users\\harsh\\AppData\\Local\\Temp\\ipykernel_16832\\3054302575.py:15: SettingWithCopyWarning: \n",
      "A value is trying to be set on a copy of a slice from a DataFrame\n",
      "\n",
      "See the caveats in the documentation: https://pandas.pydata.org/pandas-docs/stable/user_guide/indexing.html#returning-a-view-versus-a-copy\n",
      "  df[\"day\"][i] = df[\"date_time\"][i][8:10]\n"
     ]
    },
    {
     "name": "stdout",
     "output_type": "stream",
     "text": [
      "0       2019\n",
      "1       2019\n",
      "2       2019\n",
      "3       2019\n",
      "4       2019\n",
      "        ... \n",
      "8777    2020\n",
      "8778    2020\n",
      "8779    2020\n",
      "8780    2020\n",
      "8781    2020\n",
      "Name: year, Length: 8782, dtype: object\n"
     ]
    },
    {
     "name": "stderr",
     "output_type": "stream",
     "text": [
      "C:\\Users\\harsh\\AppData\\Local\\Temp\\ipykernel_16832\\3054302575.py:13: SettingWithCopyWarning: \n",
      "A value is trying to be set on a copy of a slice from a DataFrame\n",
      "\n",
      "See the caveats in the documentation: https://pandas.pydata.org/pandas-docs/stable/user_guide/indexing.html#returning-a-view-versus-a-copy\n",
      "  df[\"year\"][i] = df[\"date_time\"][i][0:4]\n",
      "C:\\Users\\harsh\\AppData\\Local\\Temp\\ipykernel_16832\\3054302575.py:14: SettingWithCopyWarning: \n",
      "A value is trying to be set on a copy of a slice from a DataFrame\n",
      "\n",
      "See the caveats in the documentation: https://pandas.pydata.org/pandas-docs/stable/user_guide/indexing.html#returning-a-view-versus-a-copy\n",
      "  df[\"month\"][i] = df[\"date_time\"][i][5:7]\n",
      "C:\\Users\\harsh\\AppData\\Local\\Temp\\ipykernel_16832\\3054302575.py:15: SettingWithCopyWarning: \n",
      "A value is trying to be set on a copy of a slice from a DataFrame\n",
      "\n",
      "See the caveats in the documentation: https://pandas.pydata.org/pandas-docs/stable/user_guide/indexing.html#returning-a-view-versus-a-copy\n",
      "  df[\"day\"][i] = df[\"date_time\"][i][8:10]\n"
     ]
    },
    {
     "name": "stdout",
     "output_type": "stream",
     "text": [
      "0       2019\n",
      "1       2019\n",
      "2       2019\n",
      "3       2019\n",
      "4       2019\n",
      "        ... \n",
      "8777    2020\n",
      "8778    2020\n",
      "8779    2020\n",
      "8780    2020\n",
      "8781    2020\n",
      "Name: year, Length: 8782, dtype: object\n"
     ]
    },
    {
     "name": "stderr",
     "output_type": "stream",
     "text": [
      "C:\\Users\\harsh\\AppData\\Local\\Temp\\ipykernel_16832\\3054302575.py:13: SettingWithCopyWarning: \n",
      "A value is trying to be set on a copy of a slice from a DataFrame\n",
      "\n",
      "See the caveats in the documentation: https://pandas.pydata.org/pandas-docs/stable/user_guide/indexing.html#returning-a-view-versus-a-copy\n",
      "  df[\"year\"][i] = df[\"date_time\"][i][0:4]\n",
      "C:\\Users\\harsh\\AppData\\Local\\Temp\\ipykernel_16832\\3054302575.py:14: SettingWithCopyWarning: \n",
      "A value is trying to be set on a copy of a slice from a DataFrame\n",
      "\n",
      "See the caveats in the documentation: https://pandas.pydata.org/pandas-docs/stable/user_guide/indexing.html#returning-a-view-versus-a-copy\n",
      "  df[\"month\"][i] = df[\"date_time\"][i][5:7]\n",
      "C:\\Users\\harsh\\AppData\\Local\\Temp\\ipykernel_16832\\3054302575.py:15: SettingWithCopyWarning: \n",
      "A value is trying to be set on a copy of a slice from a DataFrame\n",
      "\n",
      "See the caveats in the documentation: https://pandas.pydata.org/pandas-docs/stable/user_guide/indexing.html#returning-a-view-versus-a-copy\n",
      "  df[\"day\"][i] = df[\"date_time\"][i][8:10]\n"
     ]
    },
    {
     "name": "stdout",
     "output_type": "stream",
     "text": [
      "0       2019\n",
      "1       2019\n",
      "2       2019\n",
      "3       2019\n",
      "4       2019\n",
      "        ... \n",
      "8777    2020\n",
      "8778    2020\n",
      "8779    2020\n",
      "8780    2020\n",
      "8781    2020\n",
      "Name: year, Length: 8782, dtype: object\n"
     ]
    }
   ],
   "source": [
    "import pandas as pd\n",
    "data = [\"pune\",\"delhi\",\"bombay\",\"hyderabad\",\"jaipur\",\"nagpur\",\"bengaluru\",\"kanpur\"]\n",
    "for j in data:\n",
    "    df = pd.read_csv(j+\"-modified.csv\");\n",
    "    # df[\"date_time\"][1] --> string\n",
    "    n = len(df[\"date_time\"])\n",
    "    # df[\"date_time\"][1][8:10]\n",
    "    df.insert(1,\"year\",\"Any\")\n",
    "    df.insert(2,\"month\",\"Any\")\n",
    "    df.insert(3,\"day\",\"Any\")\n",
    "    #year [0:4] month [5:7] day \n",
    "    for i in range(0,n):\n",
    "        df[\"year\"][i] = df[\"date_time\"][i][0:4]\n",
    "        df[\"month\"][i] = df[\"date_time\"][i][5:7]\n",
    "        df[\"day\"][i] = df[\"date_time\"][i][8:10]\n",
    "    df.drop([\"date_time\"],axis = 1,inplace=True)\n",
    "    df.to_csv(j+\"-modified-year.csv\",index = False)\n",
    "    print(df[\"year\"])"
   ]
  },
  {
   "cell_type": "code",
   "execution_count": 25,
   "metadata": {},
   "outputs": [],
   "source": [
    "df.drop([\"date_time\"],axis = 1,inplace=True)\n",
    "df.to_csv(data[0]+\"-modified-year.csv\",index = False)"
   ]
  }
 ],
 "metadata": {
  "interpreter": {
   "hash": "e8899eb02dfbc033aab5733bdae1bd213fa031d40331094008e8673d99ebab63"
  },
  "kernelspec": {
   "display_name": "Python 3.10.2 64-bit",
   "language": "python",
   "name": "python3"
  },
  "language_info": {
   "codemirror_mode": {
    "name": "ipython",
    "version": 3
   },
   "file_extension": ".py",
   "mimetype": "text/x-python",
   "name": "python",
   "nbconvert_exporter": "python",
   "pygments_lexer": "ipython3",
   "version": "3.10.2"
  },
  "orig_nbformat": 4
 },
 "nbformat": 4,
 "nbformat_minor": 2
}
