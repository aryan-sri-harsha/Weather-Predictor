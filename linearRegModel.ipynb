{
 "cells": [
  {
   "cell_type": "code",
   "execution_count": 1,
   "metadata": {},
   "outputs": [],
   "source": [
    "import pandas as pd\n",
    "data = [\"pune\",\"delhi\",\"bombay\",\"hyderabad\",\"jaipur\",\"nagpur\",\"bengaluru\",\"kanpur\"]\n",
    "df = pd.read_csv(data[3]+\"-modified-year.csv\")\n",
    "X = df[[\"day\",\"month\"]] # \"year\"\n",
    "Y = df[\"mintempC\"]\n",
    "# mintempC, maxtempC, windspeedKmph,humidity\n",
    "from sklearn.linear_model import LinearRegression"
   ]
  },
  {
   "cell_type": "code",
   "execution_count": null,
   "metadata": {},
   "outputs": [],
   "source": [
    "from sklearn.linear_model import LinearRegression\n",
    "for i in data:\n",
    "    df = pd.read_csv(i+\"-modified-year.csv\")\n",
    "    X = df[[\"day\",\"month\"]]\n",
    "    req = [ \"mintempC\", \"maxtempC\", \"windspeedKmph\",\"humidity\" ]\n",
    "    arr = []\n",
    "    for j in req:\n",
    "        Y = df[j]\n",
    "        reg = LinearRegression().fit(X, Y)\n",
    "        arr.append([reg.intercept_,reg.coef_[0],reg.coef_[1]])\n",
    "    arr = pd.DataFrame(arr)\n",
    "    arr.to_csv(i+\"-coef.csv\",index = False)\n",
    "    print(arr[0])"
   ]
  },
  {
   "cell_type": "code",
   "execution_count": 2,
   "metadata": {},
   "outputs": [
    {
     "data": {
      "text/html": [
       "<div>\n",
       "<style scoped>\n",
       "    .dataframe tbody tr th:only-of-type {\n",
       "        vertical-align: middle;\n",
       "    }\n",
       "\n",
       "    .dataframe tbody tr th {\n",
       "        vertical-align: top;\n",
       "    }\n",
       "\n",
       "    .dataframe thead th {\n",
       "        text-align: right;\n",
       "    }\n",
       "</style>\n",
       "<table border=\"1\" class=\"dataframe\">\n",
       "  <thead>\n",
       "    <tr style=\"text-align: right;\">\n",
       "      <th></th>\n",
       "      <th>0</th>\n",
       "      <th>1</th>\n",
       "      <th>2</th>\n",
       "    </tr>\n",
       "  </thead>\n",
       "  <tbody>\n",
       "    <tr>\n",
       "      <th>0</th>\n",
       "      <td>27.106147</td>\n",
       "      <td>-0.003574</td>\n",
       "      <td>-0.431681</td>\n",
       "    </tr>\n",
       "  </tbody>\n",
       "</table>\n",
       "</div>"
      ],
      "text/plain": [
       "           0         1         2\n",
       "0  27.106147 -0.003574 -0.431681"
      ]
     },
     "execution_count": 2,
     "metadata": {},
     "output_type": "execute_result"
    }
   ],
   "source": [
    "arr = [];\n",
    "reg = LinearRegression().fit(X, Y)\n",
    "arr.append([reg.intercept_,reg.coef_[0],reg.coef_[1]])\n",
    "# arr.append(reg.coef_)\n",
    "arr  = pd.DataFrame(arr)\n",
    "arr\n"
   ]
  },
  {
   "cell_type": "code",
   "execution_count": 8,
   "metadata": {},
   "outputs": [
    {
     "name": "stderr",
     "output_type": "stream",
     "text": [
      "c:\\Users\\harsh\\AppData\\Local\\Programs\\Python\\Python310\\lib\\site-packages\\sklearn\\base.py:450: UserWarning: X does not have valid feature names, but LinearRegression was fitted with feature names\n",
      "  warnings.warn(\n"
     ]
    },
    {
     "data": {
      "text/plain": [
       "array([24.51248407])"
      ]
     },
     "execution_count": 8,
     "metadata": {},
     "output_type": "execute_result"
    }
   ],
   "source": [
    "y_pred = reg.predict([[1,6]])\n",
    "# from sklearn.metrics import mean_absolute_error\n",
    "# err = mean_absolute_error(Y,y_pred)\n",
    "# err\n",
    "y_pred\n"
   ]
  }
 ],
 "metadata": {
  "interpreter": {
   "hash": "e8899eb02dfbc033aab5733bdae1bd213fa031d40331094008e8673d99ebab63"
  },
  "kernelspec": {
   "display_name": "Python 3.10.2 64-bit",
   "language": "python",
   "name": "python3"
  },
  "language_info": {
   "codemirror_mode": {
    "name": "ipython",
    "version": 3
   },
   "file_extension": ".py",
   "mimetype": "text/x-python",
   "name": "python",
   "nbconvert_exporter": "python",
   "pygments_lexer": "ipython3",
   "version": "3.10.2"
  },
  "orig_nbformat": 4
 },
 "nbformat": 4,
 "nbformat_minor": 2
}
